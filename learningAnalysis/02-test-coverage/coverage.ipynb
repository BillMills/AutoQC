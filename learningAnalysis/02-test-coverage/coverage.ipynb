{
 "cells": [
  {
   "cell_type": "markdown",
   "metadata": {},
   "source": [
    "# QC Test Coverage\n",
    "\n",
    "In our preliminary investigation, it became evident that we didn't yet have enough basic QC tests implemented to cover all the reasons profiles were being flagged in *quota*. Here, we create the infrastructure to quickly assess the coverage of our tests, before returning to the problem of constructing final decisions via machine learning strategies.\n",
    "\n",
    " - **AutoQC Version**: `learning-0.0.2`\n",
    " - **Datasets**: `quota` (unreleased)\n",
    " - **OS**: OSX 10.10.3\n",
    " - **Python version**: Python 2.7.10 :: Anaconda 2.3.0 (x86_64); see pip_freeze.dat for package versions."
   ]
  },
  {
   "cell_type": "markdown",
   "metadata": {},
   "source": [
    "## 0.1: Data Reduction\n",
    "\n",
    "The full dataset was processed by AutoQC, and the results logged as JSON serializations."
   ]
  },
  {
   "cell_type": "code",
   "execution_count": 20,
   "metadata": {
    "collapsed": false
   },
   "outputs": [],
   "source": [
    "import json\n",
    "\n",
    "def reloadData(): \n",
    "    ## read raw data\n",
    "    with open('../../../AutoQC_raw/quota/parallelTest-large/true-quota.dat') as true_data:    \n",
    "        truth = json.load(true_data)\n",
    "\n",
    "    with open('../../../AutoQC_raw/quota/parallelTest-large/results-quota.dat') as results_data:    \n",
    "        rawResults = json.load(results_data)\n",
    "        \n",
    "    return truth, rawResults\n",
    "\n",
    "truth, rawResults = reloadData()\n",
    "datasetSize = len(truth)\n",
    "tests = ['Argo_global_range_check','Argo_gradient_test','Argo_impossible_date_test',\n",
    "         'Argo_impossible_location_test','Argo_pressure_increasing_test',\n",
    "         'Argo_regional_range_test','Argo_spike_test','EN_background_check',\n",
    "         'EN_constant_value_check','EN_range_check','EN_spike_and_step_check',\n",
    "         'EN_stability_check','WOD_gradient_check','WOD_range_check']"
   ]
  },
  {
   "cell_type": "markdown",
   "metadata": {},
   "source": [
    "## 0.2: Helpers\n",
    "\n",
    "We repeat some of the helpers from the previous study here:"
   ]
  },
  {
   "cell_type": "code",
   "execution_count": 7,
   "metadata": {
    "collapsed": true
   },
   "outputs": [],
   "source": [
    "def transpose(lists):\n",
    "    '''\n",
    "    return the transpose of lists, a list of lists.\n",
    "    all the inner lists had better be the same length!\n",
    "    '''\n",
    "\n",
    "    T = []\n",
    "    for i in range(len(lists[0])):\n",
    "        T.append([None]*len(lists))\n",
    "\n",
    "    for i in range(len(lists)):\n",
    "        for j in range(len(lists[0])):\n",
    "            T[j][i] = lists[i][j]\n",
    "\n",
    "    return T\n",
    "\n",
    "def printSummary(title, TT, TF, FT, FF):\n",
    "    print title \n",
    "    print '\\t Correct flags:', TT\n",
    "    print '\\t False positive:', TF\n",
    "    print '\\t False negative:', FT\n",
    "    print '\\t Correct pass:', FF\n",
    "\n",
    "trainingSize = 5000"
   ]
  },
  {
   "cell_type": "markdown",
   "metadata": {},
   "source": [
    "Last time, some of the best performance was derived from simply OR'ing all tests together; we repeat this here:"
   ]
  },
  {
   "cell_type": "code",
   "execution_count": 21,
   "metadata": {
    "collapsed": false
   },
   "outputs": [
    {
     "name": "stdout",
     "output_type": "stream",
     "text": [
      "without WOD_range_check\n",
      "\t Correct flags: 0.0638564193418\n",
      "\t False positive: 0.084724656101\n",
      "\t False negative: 0.0528028654509\n",
      "\t Correct pass: 0.798616059106\n"
     ]
    }
   ],
   "source": [
    "truth, rawResults = reloadData()\n",
    "data = transpose(rawResults)\n",
    "\n",
    "TT = 0.\n",
    "TF = 0.\n",
    "FT = 0.\n",
    "FF = 0.\n",
    "\n",
    "for i in range(len(truth)):\n",
    "    anyFlag = sum(data[i]) > 0\n",
    "    if anyFlag and truth[i]:\n",
    "        TT += 1\n",
    "    elif anyFlag and not truth[i]:\n",
    "        TF += 1\n",
    "    elif not anyFlag and truth[i]:\n",
    "        FT += 1\n",
    "    elif not anyFlag and not truth[i]:\n",
    "        FF +=1\n",
    "printSummary('any', TT/len(truth), TF/len(truth), FT/len(truth), FF/len(truth))"
   ]
  },
  {
   "cell_type": "markdown",
   "metadata": {},
   "source": [
    "It was also instructive to examine the same information in terms of a histogram of profiles flagged by n QC tests:"
   ]
  },
  {
   "cell_type": "code",
   "execution_count": 35,
   "metadata": {
    "collapsed": false
   },
   "outputs": [
    {
     "data": {
      "image/png": "[encoded data removed]",
      "text/plain": [
       "<matplotlib.figure.Figure at 0x105be9b50>"
      ]
     },
     "metadata": {},
     "output_type": "display_data"
    }
   ],
   "source": [
    "import matplotlib.pyplot as plt\n",
    "%matplotlib inline\n",
    "\n",
    "#load and arrange data\n",
    "truth, rawResults = reloadData()\n",
    "data = transpose(rawResults) #arrange data into rows by profile for consumption by scikit-learn\n",
    "\n",
    "histEntries = []\n",
    "\n",
    "for i in range(len(data)):\n",
    "    if truth[i]:\n",
    "        histEntries.append( sum(data[i]) )\n",
    "        \n",
    "plt.hist(histEntries, bins=range(15), normed=1 )\n",
    "plt.xlabel('No. QC tests raising flags', fontsize=18)\n",
    "plt.ylabel('Bad profiles flagged', fontsize=18)\n",
    "plt.rcParams['figure.dpi'] = 300\n",
    "plt.show()"
   ]
  },
  {
   "cell_type": "markdown",
   "metadata": {
    "collapsed": true
   },
   "source": [
    "Beyond the previous study, it is interesting to ask how important each of these QC tests are independently; here we reassess the 'all-or' results, omitting one QC test at a time:"
   ]
  },
  {
   "cell_type": "code",
   "execution_count": 28,
   "metadata": {
    "collapsed": false
   },
   "outputs": [
    {
     "name": "stdout",
     "output_type": "stream",
     "text": [
      "without Argo_global_range_check\n",
      "\t Correct flags: 0.0638564193418\n",
      "\t False positive: 0.084724656101\n",
      "\t False negative: 0.0528028654509\n",
      "\t Correct pass: 0.798616059106\n",
      "         proportion of bad profiles correctly flagged:  0.54737537141 \n",
      "\n",
      "without Argo_gradient_test\n",
      "\t Correct flags: 0.0638307432584\n",
      "\t False positive: 0.0845834376424\n",
      "\t False negative: 0.0528285415343\n",
      "\t Correct pass: 0.798757277565\n",
      "         proportion of bad profiles correctly flagged:  0.547155276769 \n",
      "\n",
      "without Argo_impossible_date_test\n",
      "\t Correct flags: 0.0638371622793\n",
      "\t False positive: 0.0841276871626\n",
      "\t False negative: 0.0528221225134\n",
      "\t Correct pass: 0.799213028045\n",
      "         proportion of bad profiles correctly flagged:  0.547210300429 \n",
      "\n",
      "without Argo_impossible_location_test\n",
      "\t Correct flags: 0.0638564193418\n",
      "\t False positive: 0.084724656101\n",
      "\t False negative: 0.0528028654509\n",
      "\t Correct pass: 0.798616059106\n",
      "         proportion of bad profiles correctly flagged:  0.54737537141 \n",
      "\n",
      "without Argo_pressure_increasing_test\n",
      "\t Correct flags: 0.0613080680673\n",
      "\t False positive: 0.0680544589728\n",
      "\t False negative: 0.0553512167254\n",
      "\t Correct pass: 0.815286256234\n",
      "         proportion of bad profiles correctly flagged:  0.525530978321 \n",
      "\n",
      "without Argo_regional_range_test\n",
      "\t Correct flags: 0.0631439080283\n",
      "\t False positive: 0.0810658142207\n",
      "\t False negative: 0.0535153767644\n",
      "\t Correct pass: 0.802274900987\n",
      "         proportion of bad profiles correctly flagged:  0.54126774513 \n",
      "\n",
      "without Argo_spike_test\n",
      "\t Correct flags: 0.063850000321\n",
      "\t False positive: 0.0847118180593\n",
      "\t False negative: 0.0528092844717\n",
      "\t Correct pass: 0.798628897148\n",
      "         proportion of bad profiles correctly flagged:  0.54732034775 \n",
      "\n",
      "without EN_background_check\n",
      "\t Correct flags: 0.0436878558545\n",
      "\t False positive: 0.0682470295981\n",
      "\t False negative: 0.0729714289382\n",
      "\t Correct pass: 0.815093685609\n",
      "         proportion of bad profiles correctly flagged:  0.374491031143 \n",
      "\n",
      "without EN_constant_value_check\n",
      "\t Correct flags: 0.0636638487165\n",
      "\t False positive: 0.0843716099546\n",
      "\t False negative: 0.0529954360762\n",
      "\t Correct pass: 0.798969105253\n",
      "         proportion of bad profiles correctly flagged:  0.545724661604 \n",
      "\n",
      "without EN_range_check\n",
      "\t Correct flags: 0.0638564193418\n",
      "\t False positive: 0.084724656101\n",
      "\t False negative: 0.0528028654509\n",
      "\t Correct pass: 0.798616059106\n",
      "         proportion of bad profiles correctly flagged:  0.54737537141 \n",
      "\n",
      "without EN_spike_and_step_check\n",
      "\t Correct flags: 0.0637729720708\n",
      "\t False positive: 0.0846155327466\n",
      "\t False negative: 0.0528863127219\n",
      "\t Correct pass: 0.798725182461\n",
      "         proportion of bad profiles correctly flagged:  0.546660063827 \n",
      "\n",
      "without EN_stability_check\n",
      "\t Correct flags: 0.0638564193418\n",
      "\t False positive: 0.084724656101\n",
      "\t False negative: 0.0528028654509\n",
      "\t Correct pass: 0.798616059106\n",
      "         proportion of bad profiles correctly flagged:  0.54737537141 \n",
      "\n",
      "without WOD_gradient_check\n",
      "\t Correct flags: 0.0614749626092\n",
      "\t False positive: 0.0654034033649\n",
      "\t False negative: 0.0551843221835\n",
      "\t Correct pass: 0.817937311842\n",
      "         proportion of bad profiles correctly flagged:  0.526961593485 \n",
      "\n",
      "without WOD_range_check\n",
      "\t Correct flags: 0.0637537150083\n",
      "\t False positive: 0.084519247434\n",
      "\t False negative: 0.0529055697844\n",
      "\t Correct pass: 0.798821467773\n",
      "         proportion of bad profiles correctly flagged:  0.546494992847 \n",
      "\n"
     ]
    }
   ],
   "source": [
    "truth, rawResults = reloadData()\n",
    "data = transpose(rawResults)\n",
    "\n",
    "for j in range(len(data[0])):\n",
    "    TT = 0.\n",
    "    TF = 0.\n",
    "    FT = 0.\n",
    "    FF = 0.\n",
    "    for i in range(len(truth)):\n",
    "        removeOne = data[i][:]\n",
    "        del removeOne[j]\n",
    "        anyFlag = sum(removeOne) > 0\n",
    "        if anyFlag and truth[i]:\n",
    "            TT += 1\n",
    "        elif anyFlag and not truth[i]:\n",
    "            TF += 1\n",
    "        elif not anyFlag and truth[i]:\n",
    "            FT += 1\n",
    "        elif not anyFlag and not truth[i]:\n",
    "            FF +=1\n",
    "    printSummary('without ' + tests[j], TT/len(truth), TF/len(truth), FT/len(truth), FF/len(truth))\n",
    "    print '         proportion of bad profiles correctly flagged: ', TT / (TT + FT), '\\n'"
   ]
  },
  {
   "cell_type": "markdown",
   "metadata": {},
   "source": [
    "Once again, EN-background is the most important single test. It's standalone performance is:"
   ]
  },
  {
   "cell_type": "code",
   "execution_count": 33,
   "metadata": {
    "collapsed": false
   },
   "outputs": [
    {
     "name": "stdout",
     "output_type": "stream",
     "text": [
      "EN-Background\n",
      "\t Correct flags: 0.0571806376655\n",
      "\t False positive: 0.0430202776868\n",
      "\t False negative: 0.0594786471272\n",
      "\t Correct pass: 0.84032043752\n",
      "correct flag rate: 0.490150764829\n",
      "correct pass rate: 0.933897857708\n"
     ]
    }
   ],
   "source": [
    "truth, rawResults = reloadData()\n",
    "data = transpose(rawResults)\n",
    "\n",
    "TT = 0.\n",
    "TF = 0.\n",
    "FT = 0.\n",
    "FF = 0.\n",
    "\n",
    "for i in range(len(truth)):\n",
    "    anyFlag = data[i][7]\n",
    "    if anyFlag and truth[i]:\n",
    "        TT += 1\n",
    "    elif anyFlag and not truth[i]:\n",
    "        TF += 1\n",
    "    elif not anyFlag and truth[i]:\n",
    "        FT += 1\n",
    "    elif not anyFlag and not truth[i]:\n",
    "        FF +=1\n",
    "printSummary('EN-Background', TT/len(truth), TF/len(truth), FT/len(truth), FF/len(truth))\n",
    "print 'correct flag rate:', TT / (TT + FT)\n",
    "print 'correct pass rate:', FF / (FF + FT)"
   ]
  },
  {
   "cell_type": "code",
   "execution_count": null,
   "metadata": {
    "collapsed": true
   },
   "outputs": [],
   "source": []
  }
 ],
 "metadata": {
  "kernelspec": {
   "display_name": "Python 2",
   "language": "python",
   "name": "python2"
  },
  "language_info": {
   "codemirror_mode": {
    "name": "ipython",
    "version": 2
   },
   "file_extension": ".py",
   "mimetype": "text/x-python",
   "name": "python",
   "nbconvert_exporter": "python",
   "pygments_lexer": "ipython2",
   "version": "2.7.10"
  }
 },
 "nbformat": 4,
 "nbformat_minor": 0
}
